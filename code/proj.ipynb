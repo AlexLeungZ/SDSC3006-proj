{
 "cells": [
  {
   "cell_type": "markdown",
   "metadata": {},
   "source": [
    "# SDSC3006 Group Project"
   ]
  },
  {
   "cell_type": "markdown",
   "metadata": {},
   "source": [
    "## Steel Plates Faults Dataset (27 attributes, 1941 instances)"
   ]
  },
  {
   "cell_type": "markdown",
   "metadata": {},
   "source": [
    "### Loading library"
   ]
  },
  {
   "cell_type": "code",
   "execution_count": 1,
   "metadata": {
    "vscode": {
     "languageId": "r"
    }
   },
   "outputs": [],
   "source": [
    "# Dev lib\n",
    "# library(diffobj)\n"
   ]
  },
  {
   "cell_type": "code",
   "execution_count": 2,
   "metadata": {
    "vscode": {
     "languageId": "r"
    }
   },
   "outputs": [
    {
     "name": "stderr",
     "output_type": "stream",
     "text": [
      "Type 'citation(\"pROC\")' for a citation.\n",
      "\n",
      "\n",
      "Attaching package: ‘pROC’\n",
      "\n",
      "\n",
      "The following objects are masked from ‘package:stats’:\n",
      "\n",
      "    cov, smooth, var\n",
      "\n",
      "\n",
      "Loading required package: lattice\n",
      "\n",
      "Welcome! Want to learn more? See two factoextra-related books at https://goo.gl/ve3WBa\n",
      "\n"
     ]
    }
   ],
   "source": [
    "# Prod  lib\n",
    "library(ggplot2)\n",
    "library(reshape2)\n",
    "library(pROC)\n",
    "library(caret)\n",
    "library(e1071)\n",
    "library(factoextra)\n",
    "\n",
    "# library(haven)\n",
    "# library(rpart)\n",
    "# library(rpart.plot)\n"
   ]
  },
  {
   "cell_type": "code",
   "execution_count": 3,
   "metadata": {
    "vscode": {
     "languageId": "r"
    }
   },
   "outputs": [],
   "source": [
    "plotCM2Heatmap <- function(table) {\n",
    "   ggplot(data = melt(table), aes(x = Prediction, y = Reference, fill = value)) +\n",
    "      geom_tile(color = \"black\") +\n",
    "      geom_text(aes(label = value)) +\n",
    "      scale_fill_gradientn(colours = heat.colors(100, rev = TRUE)) +\n",
    "      coord_fixed() +\n",
    "      theme_grey(base_size = 14) +\n",
    "      theme(legend.position = \"none\", axis.ticks = element_blank(), axis.text.x = element_text(angle = 315, hjust = 0))\n",
    "}\n"
   ]
  },
  {
   "cell_type": "code",
   "execution_count": 4,
   "metadata": {
    "vscode": {
     "languageId": "r"
    }
   },
   "outputs": [],
   "source": [
    "plotMultiRoc <- function(prediction, predictor, arrow) {\n",
    "   set.seed(0)\n",
    "   auc <- multiclass.roc(prediction, predictor, direction=arrow)\n",
    "   for (i in 1:length(auc$rocs)) {\n",
    "      plot.roc(auc$rocs[[i]], add = (if (i == 1) F else T), legacy.axes = T, lwd = 2, col = sample.int(100))\n",
    "   }\n",
    "}"
   ]
  },
  {
   "cell_type": "markdown",
   "metadata": {},
   "source": [
    "### Set random seed"
   ]
  },
  {
   "cell_type": "code",
   "execution_count": 5,
   "metadata": {
    "vscode": {
     "languageId": "r"
    }
   },
   "outputs": [
    {
     "name": "stdout",
     "output_type": "stream",
     "text": [
      "[1] 0\n"
     ]
    }
   ],
   "source": [
    "seed <- 0\n",
    "print(seed)\n"
   ]
  },
  {
   "cell_type": "markdown",
   "metadata": {},
   "source": [
    "### Load dataset"
   ]
  },
  {
   "cell_type": "code",
   "execution_count": 6,
   "metadata": {
    "vscode": {
     "languageId": "r"
    }
   },
   "outputs": [],
   "source": [
    "df <- read.table(\"Faults.NNA\", col.names = as.vector(read.table(\"Faults27x7_var\")$V1))\n",
    "df.X <- scale(df[1:27])\n",
    "df.Y <- data.frame(Faults = factor(names(df[28:34])[max.col(df[28:34])]))\n"
   ]
  },
  {
   "cell_type": "markdown",
   "metadata": {},
   "source": [
    "### PCA Tranformation "
   ]
  },
  {
   "cell_type": "code",
   "execution_count": 7,
   "metadata": {
    "vscode": {
     "languageId": "r"
    }
   },
   "outputs": [],
   "source": [
    "df.pca <- prcomp(df[, -length(df)], scale = TRUE)\n",
    "df.pcaX <- df.pca$x\n"
   ]
  },
  {
   "cell_type": "code",
   "execution_count": 8,
   "metadata": {
    "vscode": {
     "languageId": "r"
    }
   },
   "outputs": [],
   "source": [
    "# fviz_eig(df.pca, addlabels = TRUE)\n",
    "# fviz_pca_var(df.pca, col.var = \"cos2\", repel = TRUE)\n"
   ]
  },
  {
   "cell_type": "markdown",
   "metadata": {},
   "source": [
    "### Split dataset"
   ]
  },
  {
   "cell_type": "code",
   "execution_count": 9,
   "metadata": {
    "vscode": {
     "languageId": "r"
    }
   },
   "outputs": [],
   "source": [
    "set.seed(seed)\n",
    "rand <- sample(nrow(df), nrow(df) * 0.8)\n",
    "\n",
    "df.train.X <- df.X[rand, ]\n",
    "df.train.Y <- df.Y[rand, ]\n",
    "df.train.pcaX <- df.pcaX[rand, ]\n",
    "\n",
    "df.test.X <- df.X[-rand, ]\n",
    "df.test.Y <- df.Y[-rand, ]\n",
    "df.test.pcaX <- df.pcaX[-rand, ]\n"
   ]
  },
  {
   "cell_type": "markdown",
   "metadata": {},
   "source": [
    "### Naive Bayes"
   ]
  },
  {
   "cell_type": "markdown",
   "metadata": {},
   "source": [
    "#### Without PCA"
   ]
  },
  {
   "cell_type": "code",
   "execution_count": 10,
   "metadata": {
    "vscode": {
     "languageId": "r"
    }
   },
   "outputs": [
    {
     "data": {
      "text/html": [
       "<strong>Accuracy:</strong> 0.610180412371134"
      ],
      "text/latex": [
       "\\textbf{Accuracy:} 0.610180412371134"
      ],
      "text/markdown": [
       "**Accuracy:** 0.610180412371134"
      ],
      "text/plain": [
       " Accuracy \n",
       "0.6101804 "
      ]
     },
     "metadata": {},
     "output_type": "display_data"
    },
    {
     "data": {
      "text/html": [
       "<strong>Accuracy:</strong> 0.611825192802057"
      ],
      "text/latex": [
       "\\textbf{Accuracy:} 0.611825192802057"
      ],
      "text/markdown": [
       "**Accuracy:** 0.611825192802057"
      ],
      "text/plain": [
       " Accuracy \n",
       "0.6118252 "
      ]
     },
     "metadata": {},
     "output_type": "display_data"
    }
   ],
   "source": [
    "set.seed(seed)\n",
    "gnb.model <- naiveBayes(df.train.X, df.train.Y)\n",
    "gnb.train.yPred <- predict(gnb.model, df.train.X)\n",
    "gnb.test.yPred <- predict(gnb.model, df.test.X)\n",
    "\n",
    "gnb.train.cm <- confusionMatrix(gnb.train.yPred, df.train.Y)\n",
    "gnb.test.cm <- confusionMatrix(gnb.test.yPred, df.test.Y)\n",
    "\n",
    "gnb.train.cm$overall[\"Accuracy\"]\n",
    "gnb.test.cm$overall[\"Accuracy\"]\n"
   ]
  },
  {
   "cell_type": "markdown",
   "metadata": {},
   "source": [
    "##### Confusion Matrix Heat map"
   ]
  },
  {
   "cell_type": "markdown",
   "metadata": {},
   "source": [
    "Training Set"
   ]
  },
  {
   "cell_type": "code",
   "execution_count": 11,
   "metadata": {
    "vscode": {
     "languageId": "r"
    }
   },
   "outputs": [],
   "source": [
    "# plotCM2Heatmap(gnb.train.cm$table)\n"
   ]
  },
  {
   "cell_type": "markdown",
   "metadata": {},
   "source": [
    "Testing Set"
   ]
  },
  {
   "cell_type": "code",
   "execution_count": 12,
   "metadata": {
    "vscode": {
     "languageId": "r"
    }
   },
   "outputs": [
    {
     "data": {
      "image/png": "[encoded data removed]",
      "text/plain": [
       "plot without title"
      ]
     },
     "metadata": {
      "image/png": {
       "height": 420,
       "width": 420
      }
     },
     "output_type": "display_data"
    }
   ],
   "source": [
    "plotCM2Heatmap(gnb.test.cm$table)\n"
   ]
  },
  {
   "cell_type": "markdown",
   "metadata": {},
   "source": [
    "##### Area under Curve"
   ]
  },
  {
   "cell_type": "markdown",
   "metadata": {},
   "source": [
    "Training Set"
   ]
  },
  {
   "cell_type": "code",
   "execution_count": 13,
   "metadata": {
    "vscode": {
     "languageId": "r"
    }
   },
   "outputs": [],
   "source": [
    "# plotMultiRoc(gnb.train.yPred, as.numeric(df.train.Y), \"<\")\n",
    "\n"
   ]
  },
  {
   "cell_type": "markdown",
   "metadata": {},
   "source": [
    "Testing Set"
   ]
  },
  {
   "cell_type": "code",
   "execution_count": 14,
   "metadata": {
    "vscode": {
     "languageId": "r"
    }
   },
   "outputs": [],
   "source": [
    "# plotMultiRoc(gnb.test.yPred, as.numeric(df.test.Y), \"<\")\n"
   ]
  },
  {
   "cell_type": "markdown",
   "metadata": {},
   "source": [
    "#### With PCA"
   ]
  },
  {
   "cell_type": "code",
   "execution_count": 15,
   "metadata": {
    "vscode": {
     "languageId": "r"
    }
   },
   "outputs": [
    {
     "data": {
      "text/html": [
       "<strong>Accuracy:</strong> 0.955541237113402"
      ],
      "text/latex": [
       "\\textbf{Accuracy:} 0.955541237113402"
      ],
      "text/markdown": [
       "**Accuracy:** 0.955541237113402"
      ],
      "text/plain": [
       " Accuracy \n",
       "0.9555412 "
      ]
     },
     "metadata": {},
     "output_type": "display_data"
    },
    {
     "data": {
      "text/html": [
       "<strong>Accuracy:</strong> 0.956298200514139"
      ],
      "text/latex": [
       "\\textbf{Accuracy:} 0.956298200514139"
      ],
      "text/markdown": [
       "**Accuracy:** 0.956298200514139"
      ],
      "text/plain": [
       " Accuracy \n",
       "0.9562982 "
      ]
     },
     "metadata": {},
     "output_type": "display_data"
    }
   ],
   "source": [
    "set.seed(seed)\n",
    "gnb.pca <- naiveBayes(df.train.pcaX, df.train.Y)\n",
    "gnb.train.yPredPca <- predict(gnb.pca, df.train.pcaX)\n",
    "gnb.test.yPredPca <- predict(gnb.pca, df.test.pcaX)\n",
    "\n",
    "gnb.train.cmPca <- confusionMatrix(gnb.train.yPredPca, df.train.Y)\n",
    "gnb.test.cmPca <- confusionMatrix(gnb.test.yPredPca, df.test.Y)\n",
    "\n",
    "gnb.train.cmPca$overall[\"Accuracy\"]\n",
    "gnb.test.cmPca$overall[\"Accuracy\"]"
   ]
  },
  {
   "cell_type": "markdown",
   "metadata": {},
   "source": [
    "##### Confusion Matrix Heat map"
   ]
  },
  {
   "cell_type": "markdown",
   "metadata": {},
   "source": [
    "Training Set"
   ]
  },
  {
   "cell_type": "code",
   "execution_count": 16,
   "metadata": {
    "vscode": {
     "languageId": "r"
    }
   },
   "outputs": [],
   "source": [
    "# plotCM2Heatmap(gnb.train.cmPca$table)\n"
   ]
  },
  {
   "cell_type": "markdown",
   "metadata": {},
   "source": [
    "Testing Set"
   ]
  },
  {
   "cell_type": "code",
   "execution_count": 17,
   "metadata": {
    "vscode": {
     "languageId": "r"
    }
   },
   "outputs": [
    {
     "data": {
      "image/png": "[encoded data removed]",
      "text/plain": [
       "plot without title"
      ]
     },
     "metadata": {
      "image/png": {
       "height": 420,
       "width": 420
      }
     },
     "output_type": "display_data"
    }
   ],
   "source": [
    "plotCM2Heatmap(gnb.test.cmPca$table)\n"
   ]
  },
  {
   "cell_type": "markdown",
   "metadata": {},
   "source": [
    "##### Area under Curve"
   ]
  },
  {
   "cell_type": "markdown",
   "metadata": {},
   "source": [
    "Training Set"
   ]
  },
  {
   "cell_type": "code",
   "execution_count": 18,
   "metadata": {
    "vscode": {
     "languageId": "r"
    }
   },
   "outputs": [],
   "source": [
    "# plotMultiRoc(gnb.train.yPredPca, as.numeric(df.train.Y), \"<\")\n",
    "\n"
   ]
  },
  {
   "cell_type": "markdown",
   "metadata": {},
   "source": [
    "Testing Set"
   ]
  },
  {
   "cell_type": "code",
   "execution_count": 19,
   "metadata": {
    "vscode": {
     "languageId": "r"
    }
   },
   "outputs": [],
   "source": [
    "# plotMultiRoc(gnb.test.yPredPca, as.numeric(df.test.Y), \"<\")\n"
   ]
  },
  {
   "cell_type": "markdown",
   "metadata": {},
   "source": [
    "### Logistic Regression"
   ]
  },
  {
   "cell_type": "code",
   "execution_count": null,
   "metadata": {
    "vscode": {
     "languageId": "r"
    }
   },
   "outputs": [],
   "source": []
  },
  {
   "cell_type": "markdown",
   "metadata": {},
   "source": [
    "### LDA or QDA"
   ]
  },
  {
   "cell_type": "code",
   "execution_count": null,
   "metadata": {
    "vscode": {
     "languageId": "r"
    }
   },
   "outputs": [],
   "source": []
  },
  {
   "cell_type": "markdown",
   "metadata": {},
   "source": [
    "### KNN"
   ]
  },
  {
   "cell_type": "code",
   "execution_count": null,
   "metadata": {
    "vscode": {
     "languageId": "r"
    }
   },
   "outputs": [],
   "source": []
  },
  {
   "cell_type": "markdown",
   "metadata": {},
   "source": [
    "### Classification Tree"
   ]
  },
  {
   "cell_type": "code",
   "execution_count": null,
   "metadata": {
    "vscode": {
     "languageId": "r"
    }
   },
   "outputs": [],
   "source": []
  },
  {
   "cell_type": "markdown",
   "metadata": {},
   "source": [
    "### SVM"
   ]
  },
  {
   "cell_type": "code",
   "execution_count": null,
   "metadata": {
    "vscode": {
     "languageId": "r"
    }
   },
   "outputs": [],
   "source": []
  }
 ],
 "metadata": {
  "kernelspec": {
   "display_name": "R",
   "language": "R",
   "name": "ir"
  },
  "language_info": {
   "codemirror_mode": "r",
   "file_extension": ".r",
   "mimetype": "text/x-r-source",
   "name": "R",
   "pygments_lexer": "r",
   "version": "4.2.2"
  },
  "orig_nbformat": 4,
  "vscode": {
   "interpreter": {
    "hash": "916dbcbb3f70747c44a77c7bcd40155683ae19c65e1c03b4aa3499c5328201f1"
   }
  }
 },
 "nbformat": 4,
 "nbformat_minor": 2
}
