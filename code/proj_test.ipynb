{
 "cells": [
  {
   "cell_type": "markdown",
   "metadata": {},
   "source": [
    "# SDSC3006 Group Project\n"
   ]
  },
  {
   "cell_type": "markdown",
   "metadata": {},
   "source": [
    "## Steel Plates Faults Dataset (27 attributes, 1941 instances)\n"
   ]
  },
  {
   "cell_type": "markdown",
   "metadata": {},
   "source": [
    "### Loading library\n"
   ]
  },
  {
   "cell_type": "code",
   "execution_count": 1,
   "metadata": {
    "vscode": {
     "languageId": "r"
    }
   },
   "outputs": [],
   "source": [
    "# Dev lib\n",
    "# library(diffobj)\n"
   ]
  },
  {
   "cell_type": "code",
   "execution_count": 21,
   "metadata": {
    "vscode": {
     "languageId": "r"
    }
   },
   "outputs": [],
   "source": [
    "# Prod  lib\n",
    "# suppressPackageStartupMessages({\n",
    "library(repr)\n",
    "library(ggplot2)\n",
    "library(cowplot)\n",
    "library(reshape2)\n",
    "library(pROC)\n",
    "library(caret)\n",
    "library(e1071)\n",
    "library(gbm)\n",
    "library(kernlab)\n",
    "library(MASS)\n",
    "library(klaR)\n",
    "\n",
    "# library(factoextra)\n",
    "# library(haven)\n",
    "# library(rpart)\n",
    "# library(rpart.plot)\n",
    "# })\n"
   ]
  },
  {
   "cell_type": "markdown",
   "metadata": {},
   "source": [
    "### Supporting functions\n"
   ]
  },
  {
   "cell_type": "code",
   "execution_count": 3,
   "metadata": {
    "vscode": {
     "languageId": "r"
    }
   },
   "outputs": [],
   "source": [
    "setPlotSize <- function(wRatio, hRatio) {\n",
    "    options(repr.plot.width = wRatio * repr_option_defaults$repr.plot.width)\n",
    "    options(repr.plot.height = hRatio * repr_option_defaults$repr.plot.height)\n",
    "}\n"
   ]
  },
  {
   "cell_type": "code",
   "execution_count": 4,
   "metadata": {
    "vscode": {
     "languageId": "r"
    }
   },
   "outputs": [],
   "source": [
    "plotCM2Heatmap <- function(table) {\n",
    "    ggplot(data = melt(table), aes(x = Prediction, y = Reference, fill = value)) +\n",
    "        geom_tile(color = \"black\") +\n",
    "        geom_text(aes(label = value)) +\n",
    "        scale_fill_gradientn(colours = heat.colors(100, rev = TRUE)) +\n",
    "        coord_fixed() +\n",
    "        theme_grey(base_size = 14) +\n",
    "        theme(axis.text.x = element_text(angle = 315, hjust = 0))\n",
    "}\n"
   ]
  },
  {
   "cell_type": "code",
   "execution_count": 5,
   "metadata": {
    "vscode": {
     "languageId": "r"
    }
   },
   "outputs": [],
   "source": [
    "plotMultiRoc <- function(prediction, predictor, arrow) {\n",
    "    set.seed(0)\n",
    "    auc <- multiclass.roc(prediction, predictor, direction = arrow)\n",
    "    for (i in 1:length(auc$rocs)) {\n",
    "        plot.roc(auc$rocs[[i]], add = (if (i == 1) F else T), legacy.axes = T, lwd = 2, col = sample.int(100))\n",
    "    }\n",
    "}\n"
   ]
  },
  {
   "cell_type": "markdown",
   "metadata": {},
   "source": [
    "### Set random seed\n"
   ]
  },
  {
   "cell_type": "code",
   "execution_count": 6,
   "metadata": {
    "vscode": {
     "languageId": "r"
    }
   },
   "outputs": [
    {
     "name": "stdout",
     "output_type": "stream",
     "text": [
      "[1] 0\n"
     ]
    }
   ],
   "source": [
    "seed <- 0\n",
    "print(seed)\n"
   ]
  },
  {
   "cell_type": "markdown",
   "metadata": {},
   "source": [
    "### Load dataset\n"
   ]
  },
  {
   "cell_type": "code",
   "execution_count": 7,
   "metadata": {
    "vscode": {
     "languageId": "r"
    }
   },
   "outputs": [],
   "source": [
    "df <- read.table(\"Faults.NNA\", col.names = as.vector(read.table(\"Faults27x7_var\")$V1))\n",
    "df.X <- scale(df[1:27])\n",
    "df.Y <- data.frame(Faults = factor(names(df[28:34])[max.col(df[28:34])]))\n"
   ]
  },
  {
   "cell_type": "code",
   "execution_count": 8,
   "metadata": {
    "vscode": {
     "languageId": "r"
    }
   },
   "outputs": [],
   "source": [
    "# setPlotSize(3, 1)\n",
    "# ggplot(data = melt(cor(df.X, df[28:34])), aes(x = Var1, y = Var2, fill = value)) +\n",
    "#     geom_tile(color = \"black\") +\n",
    "#     scale_fill_gradientn(colours = heat.colors(100, rev = TRUE)) +\n",
    "#     coord_fixed() +\n",
    "#     theme_grey(base_size = 14) +\n",
    "#     theme(axis.text.x = element_text(angle = 315, hjust = 0))\n"
   ]
  },
  {
   "cell_type": "code",
   "execution_count": 9,
   "metadata": {
    "vscode": {
     "languageId": "r"
    }
   },
   "outputs": [],
   "source": [
    "# setPlotSize(1, 1)\n"
   ]
  },
  {
   "cell_type": "markdown",
   "metadata": {},
   "source": [
    "### PCA Tranformation\n"
   ]
  },
  {
   "cell_type": "code",
   "execution_count": 10,
   "metadata": {
    "vscode": {
     "languageId": "r"
    }
   },
   "outputs": [],
   "source": [
    "df.pca <- prcomp(df[, -length(df)], scale = TRUE)\n",
    "df.pcaX <- df.pca$x\n"
   ]
  },
  {
   "cell_type": "code",
   "execution_count": 11,
   "metadata": {
    "vscode": {
     "languageId": "r"
    }
   },
   "outputs": [],
   "source": [
    "# ggplot(cbind(df.pcaX, df.Y), aes(x = PC1, y = PC2, color = Faults)) +\n",
    "#     geom_point() +\n",
    "#     stat_ellipse(level = 0.95, show.legend = F) +\n",
    "#     theme_grey(base_size = 14) +\n",
    "#     theme(legend.position = c(0.2, 0.2))\n",
    "\n",
    "# impt <- melt(summary(df.pca)$importance[3, ])\n",
    "# ggplot(cbind(key = 1:nrow(impt), impt), aes(x = key, y = value, group = 1)) +\n",
    "#     geom_line(color=\"grey\") +\n",
    "#     geom_point(shape=21, color=\"black\", fill=\"purple\", size=3) +\n",
    "#     theme_grey(base_size = 14) +\n",
    "#     xlab(\"Principal Component\") +\n",
    "#     ylab(\"Cumulative Variance Explained\")\n"
   ]
  },
  {
   "cell_type": "markdown",
   "metadata": {},
   "source": [
    "### Split dataset\n"
   ]
  },
  {
   "cell_type": "code",
   "execution_count": 12,
   "metadata": {
    "vscode": {
     "languageId": "r"
    }
   },
   "outputs": [],
   "source": [
    "set.seed(seed)\n",
    "rand <- sample(nrow(df), nrow(df) * 0.8)\n",
    "\n",
    "df.train.X <- df.X[rand, ]\n",
    "df.train.Y <- df.Y[rand, ]\n",
    "df.train.pcaX <- df.pcaX[rand, ]\n",
    "\n",
    "df.test.X <- df.X[-rand, ]\n",
    "df.test.Y <- df.Y[-rand, ]\n",
    "df.test.pcaX <- df.pcaX[-rand, ]\n"
   ]
  },
  {
   "cell_type": "code",
   "execution_count": 16,
   "metadata": {
    "vscode": {
     "languageId": "r"
    }
   },
   "outputs": [],
   "source": [
    "cv <- trainControl(method = \"repeatedcv\", number = 10)\n"
   ]
  }
 ],
 "metadata": {
  "kernelspec": {
   "display_name": "R",
   "language": "R",
   "name": "ir"
  },
  "language_info": {
   "codemirror_mode": "r",
   "file_extension": ".r",
   "mimetype": "text/x-r-source",
   "name": "R",
   "pygments_lexer": "r",
   "version": "4.2.2"
  },
  "orig_nbformat": 4,
  "vscode": {
   "interpreter": {
    "hash": "916dbcbb3f70747c44a77c7bcd40155683ae19c65e1c03b4aa3499c5328201f1"
   }
  }
 },
 "nbformat": 4,
 "nbformat_minor": 2
}
